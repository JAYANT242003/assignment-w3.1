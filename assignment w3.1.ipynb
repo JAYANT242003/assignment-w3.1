{
 "cells": [
  {
   "cell_type": "code",
   "execution_count": null,
   "id": "c30da0cb-6d80-4a5e-969d-0f2b0a038b98",
   "metadata": {},
   "outputs": [],
   "source": [
    "Q1."
   ]
  },
  {
   "cell_type": "code",
   "execution_count": null,
   "id": "11dad132-42d2-4265-96b1-03c853c2d2f5",
   "metadata": {},
   "outputs": [],
   "source": [
    "def keyword is used  create a function"
   ]
  },
  {
   "cell_type": "code",
   "execution_count": 53,
   "id": "e0985be8-77cb-4b73-b224-f68d61fac789",
   "metadata": {},
   "outputs": [],
   "source": [
    "def test_odd_numbers():\n",
    "    odd_numbers = []\n",
    "    for num in range(1, 26):\n",
    "        if num % 2 != 0:\n",
    "            odd_numbers.append(num)\n",
    "    return odd_numbers\n"
   ]
  },
  {
   "cell_type": "code",
   "execution_count": 55,
   "id": "8437b2eb-08f4-414a-83cc-afae2f0d6b26",
   "metadata": {},
   "outputs": [
    {
     "data": {
      "text/plain": [
       "[1, 3, 5, 7, 9, 11, 13, 15, 17, 19, 21, 23, 25]"
      ]
     },
     "execution_count": 55,
     "metadata": {},
     "output_type": "execute_result"
    }
   ],
   "source": [
    "test_odd_numbers()"
   ]
  },
  {
   "cell_type": "code",
   "execution_count": null,
   "id": "7a2eb03f-b6d9-4942-af74-efc7d7cbd942",
   "metadata": {},
   "outputs": [],
   "source": []
  },
  {
   "cell_type": "code",
   "execution_count": null,
   "id": "88378bb9-0178-4ce9-b54d-087587820ffa",
   "metadata": {},
   "outputs": [],
   "source": [
    "Q2."
   ]
  },
  {
   "cell_type": "code",
   "execution_count": null,
   "id": "ab872ddf-7068-4ac6-8333-add2fec80394",
   "metadata": {},
   "outputs": [],
   "source": [
    "*args and **kwargs are used to allow functions to accept a variable number of arguments."
   ]
  },
  {
   "cell_type": "code",
   "execution_count": 59,
   "id": "3a67770f-93b5-4345-82a4-fe5ac182d63e",
   "metadata": {},
   "outputs": [],
   "source": [
    "def test(*arg, a):\n",
    "    return *arg ,a"
   ]
  },
  {
   "cell_type": "code",
   "execution_count": 61,
   "id": "25e3b9c8-5d28-452a-9beb-d4e3f5b4efb4",
   "metadata": {},
   "outputs": [
    {
     "data": {
      "text/plain": [
       "('jayant', 'pwskills')"
      ]
     },
     "execution_count": 61,
     "metadata": {},
     "output_type": "execute_result"
    }
   ],
   "source": [
    "test(\"jayant\",a=\"pwskills\")"
   ]
  },
  {
   "cell_type": "code",
   "execution_count": 65,
   "id": "62e69679-328f-40ca-8eef-186f33efc4e6",
   "metadata": {},
   "outputs": [],
   "source": [
    "def test1(**kwargs):\n",
    "    return kwargs"
   ]
  },
  {
   "cell_type": "code",
   "execution_count": 69,
   "id": "454c0e46-74b6-4549-9ac6-5f73fe8527f1",
   "metadata": {},
   "outputs": [
    {
     "data": {
      "text/plain": [
       "{}"
      ]
     },
     "execution_count": 69,
     "metadata": {},
     "output_type": "execute_result"
    }
   ],
   "source": [
    "test1()"
   ]
  },
  {
   "cell_type": "code",
   "execution_count": null,
   "id": "5dc60db7-8430-4f24-a326-40821d244d0a",
   "metadata": {},
   "outputs": [],
   "source": []
  },
  {
   "cell_type": "code",
   "execution_count": null,
   "id": "a2d0b35f-c17c-4941-853b-f914c24e3916",
   "metadata": {},
   "outputs": [],
   "source": []
  },
  {
   "cell_type": "code",
   "execution_count": null,
   "id": "6d11702a-b024-4fcb-872d-0cd9e5166375",
   "metadata": {},
   "outputs": [],
   "source": [
    "Q3."
   ]
  },
  {
   "cell_type": "code",
   "execution_count": null,
   "id": "188f5ef9-4d36-463a-a27d-277011731d3b",
   "metadata": {},
   "outputs": [],
   "source": [
    "In Python, an iterator is an object that allows iteration over a sequence of elements. "
   ]
  },
  {
   "cell_type": "code",
   "execution_count": null,
   "id": "6cd70bbf-223e-4d8f-b712-c0a4b07288f1",
   "metadata": {},
   "outputs": [],
   "source": [
    "The method used for iteration over the elements of an iterator is next()."
   ]
  },
  {
   "cell_type": "code",
   "execution_count": 70,
   "id": "e5132f7f-47f9-44db-addb-eb0ad21a2006",
   "metadata": {},
   "outputs": [],
   "source": [
    "l = [2,4,6,8,10,12,12,16,18,20]"
   ]
  },
  {
   "cell_type": "code",
   "execution_count": 71,
   "id": "1e1d01ed-7bf5-4327-b5ec-155ce5b15c8b",
   "metadata": {},
   "outputs": [
    {
     "name": "stdout",
     "output_type": "stream",
     "text": [
      "2\n",
      "4\n",
      "6\n",
      "8\n",
      "10\n",
      "12\n",
      "12\n",
      "16\n",
      "18\n",
      "20\n"
     ]
    }
   ],
   "source": [
    "for i in l:\n",
    "    print(i)"
   ]
  },
  {
   "cell_type": "code",
   "execution_count": 72,
   "id": "69864882-1e5b-4a51-8034-7cd132086221",
   "metadata": {},
   "outputs": [],
   "source": [
    "l1 = iter(l)"
   ]
  },
  {
   "cell_type": "code",
   "execution_count": 73,
   "id": "a08d8d8d-4be1-43c5-ac8b-5989e4f2beb6",
   "metadata": {},
   "outputs": [
    {
     "data": {
      "text/plain": [
       "2"
      ]
     },
     "execution_count": 73,
     "metadata": {},
     "output_type": "execute_result"
    }
   ],
   "source": [
    "next(l1)"
   ]
  },
  {
   "cell_type": "code",
   "execution_count": 74,
   "id": "7449e316-97f7-45d0-8a01-fdd3c859f9a3",
   "metadata": {},
   "outputs": [
    {
     "data": {
      "text/plain": [
       "4"
      ]
     },
     "execution_count": 74,
     "metadata": {},
     "output_type": "execute_result"
    }
   ],
   "source": [
    "next(l1)"
   ]
  },
  {
   "cell_type": "code",
   "execution_count": 75,
   "id": "f983f05f-7a40-4591-a747-3b01ecca5fc4",
   "metadata": {},
   "outputs": [
    {
     "data": {
      "text/plain": [
       "6"
      ]
     },
     "execution_count": 75,
     "metadata": {},
     "output_type": "execute_result"
    }
   ],
   "source": [
    "next(l1)"
   ]
  },
  {
   "cell_type": "code",
   "execution_count": 76,
   "id": "7da062a3-aadb-403c-9f59-ba93c77ba16b",
   "metadata": {},
   "outputs": [
    {
     "data": {
      "text/plain": [
       "8"
      ]
     },
     "execution_count": 76,
     "metadata": {},
     "output_type": "execute_result"
    }
   ],
   "source": [
    "next(l1)"
   ]
  },
  {
   "cell_type": "code",
   "execution_count": 77,
   "id": "ba21bc51-17ef-49f7-83dc-9f59cd5d23e2",
   "metadata": {},
   "outputs": [
    {
     "data": {
      "text/plain": [
       "10"
      ]
     },
     "execution_count": 77,
     "metadata": {},
     "output_type": "execute_result"
    }
   ],
   "source": [
    "next(l1)"
   ]
  },
  {
   "cell_type": "code",
   "execution_count": null,
   "id": "b423f65e-eb6c-4b66-b864-9070e442d9bf",
   "metadata": {},
   "outputs": [],
   "source": []
  },
  {
   "cell_type": "code",
   "execution_count": null,
   "id": "25976caf-7c60-457b-a5bb-99d13ca2b233",
   "metadata": {},
   "outputs": [],
   "source": []
  },
  {
   "cell_type": "code",
   "execution_count": null,
   "id": "2c8ee5df-547a-4f3a-b1e9-c1dfc7454c9f",
   "metadata": {},
   "outputs": [],
   "source": [
    "Q4."
   ]
  },
  {
   "cell_type": "code",
   "execution_count": null,
   "id": "1e9d0ad4-2547-4e65-a2a2-31110b9a743d",
   "metadata": {},
   "outputs": [],
   "source": [
    " a generator function is a special type of function that returns an iterator object."
   ]
  },
  {
   "cell_type": "code",
   "execution_count": null,
   "id": "064aec85-6fdf-41d3-80b6-e26b6891c24a",
   "metadata": {},
   "outputs": [],
   "source": [
    "The yield keyword is used to yield a value from the generator function."
   ]
  },
  {
   "cell_type": "code",
   "execution_count": 105,
   "id": "043589fa-219c-4644-ad55-2c232a783d3d",
   "metadata": {},
   "outputs": [],
   "source": [
    "def test(n):\n",
    "    for i in range(n):\n",
    "        if i % 2 == 0:\n",
    "            yield i"
   ]
  },
  {
   "cell_type": "code",
   "execution_count": 106,
   "id": "fe461373-c2b6-4c44-bf31-05252fc94392",
   "metadata": {},
   "outputs": [
    {
     "name": "stdout",
     "output_type": "stream",
     "text": [
      "0\n",
      "2\n",
      "4\n",
      "6\n",
      "8\n"
     ]
    }
   ],
   "source": [
    "for i in test(10):\n",
    "    print(i)"
   ]
  },
  {
   "cell_type": "code",
   "execution_count": null,
   "id": "8831cad4-2542-42e4-be9a-e511fdcc52b9",
   "metadata": {},
   "outputs": [],
   "source": []
  },
  {
   "cell_type": "code",
   "execution_count": null,
   "id": "f70daaf0-4fb1-4b8e-a246-2ad089793f87",
   "metadata": {},
   "outputs": [],
   "source": []
  },
  {
   "cell_type": "code",
   "execution_count": null,
   "id": "fe2c8cff-7b13-4dbc-b505-cd451d6a0a1f",
   "metadata": {},
   "outputs": [],
   "source": [
    "Q5."
   ]
  },
  {
   "cell_type": "code",
   "execution_count": 123,
   "id": "45449370-c471-4546-8ea9-49a9602829c4",
   "metadata": {},
   "outputs": [],
   "source": [
    "def prime_numbers_generator():\n",
    "    primes = []\n",
    "    num = 2\n",
    "    while True:\n",
    "        if all(num % prime != 0 for prime in primes):\n",
    "            primes.append(num)\n",
    "            yield num\n",
    "        num += 1\n",
    "prime_gen = prime_numbers_generator()"
   ]
  },
  {
   "cell_type": "code",
   "execution_count": 124,
   "id": "fc1280a4-54f8-41ca-868f-bb7a942bc865",
   "metadata": {},
   "outputs": [
    {
     "name": "stdout",
     "output_type": "stream",
     "text": [
      "2\n",
      "3\n",
      "5\n",
      "7\n",
      "11\n",
      "13\n",
      "17\n",
      "19\n",
      "23\n",
      "29\n",
      "31\n",
      "37\n",
      "41\n",
      "43\n",
      "47\n",
      "53\n",
      "59\n",
      "61\n",
      "67\n",
      "71\n"
     ]
    }
   ],
   "source": [
    "for _ in range(20):\n",
    "    prime = next(prime_gen)\n",
    "    print(prime)"
   ]
  },
  {
   "cell_type": "code",
   "execution_count": null,
   "id": "6a216d69-6f24-4d54-9421-544ab8ab64ec",
   "metadata": {},
   "outputs": [],
   "source": []
  },
  {
   "cell_type": "code",
   "execution_count": null,
   "id": "7cbe4689-6609-45a7-84c7-bf840236faa8",
   "metadata": {},
   "outputs": [],
   "source": []
  },
  {
   "cell_type": "code",
   "execution_count": null,
   "id": "283f0a61-607d-4552-9e93-fe64d6c87109",
   "metadata": {},
   "outputs": [],
   "source": [
    "Q6."
   ]
  },
  {
   "cell_type": "code",
   "execution_count": 137,
   "id": "596f41b8-e93c-4fc4-a3db-fd4381a32c16",
   "metadata": {},
   "outputs": [],
   "source": [
    "def test_fib():\n",
    "    a,b=1,2\n",
    "    while True:\n",
    "        yield a\n",
    "        a,b=b ,a+b"
   ]
  },
  {
   "cell_type": "code",
   "execution_count": 141,
   "id": "c8272804-f3d3-49ae-9e86-ef44d230797a",
   "metadata": {},
   "outputs": [],
   "source": [
    "fib = test_fib()"
   ]
  },
  {
   "cell_type": "code",
   "execution_count": 142,
   "id": "a3047bb5-fd7d-4c59-bf7d-2e588b3f64ce",
   "metadata": {},
   "outputs": [
    {
     "name": "stdout",
     "output_type": "stream",
     "text": [
      "1\n",
      "2\n",
      "3\n",
      "5\n",
      "8\n",
      "13\n",
      "21\n",
      "34\n",
      "55\n",
      "89\n"
     ]
    }
   ],
   "source": [
    "for i in range(10):\n",
    "    print(next(fib))"
   ]
  },
  {
   "cell_type": "code",
   "execution_count": null,
   "id": "1e5f2224-c3a5-4711-b188-0c9879445f1d",
   "metadata": {},
   "outputs": [],
   "source": []
  },
  {
   "cell_type": "code",
   "execution_count": null,
   "id": "8dc3f15c-671a-4f59-82a9-0f09402067a4",
   "metadata": {},
   "outputs": [],
   "source": []
  },
  {
   "cell_type": "code",
   "execution_count": null,
   "id": "d2e5fc1f-7393-4324-8071-7ee9890bb037",
   "metadata": {},
   "outputs": [],
   "source": [
    "Q7."
   ]
  },
  {
   "cell_type": "code",
   "execution_count": 143,
   "id": "5926cdc7-cec0-4445-bdb5-af98a5b74d28",
   "metadata": {},
   "outputs": [],
   "source": [
    "s = \"pwskills\""
   ]
  },
  {
   "cell_type": "code",
   "execution_count": 148,
   "id": "92820193-2596-43a4-9476-1d9fead28a35",
   "metadata": {},
   "outputs": [
    {
     "name": "stdout",
     "output_type": "stream",
     "text": [
      "['p', 'w', 's', 'k', 'i', 'l', 'l', 's']\n"
     ]
    }
   ],
   "source": [
    "string = 'pwskills'\n",
    "\n",
    "result = [char for char in string]\n",
    "\n",
    "print(result)\n",
    "        \n",
    "        "
   ]
  },
  {
   "cell_type": "code",
   "execution_count": null,
   "id": "ba236ba6-d890-4521-bc74-a1a99b0b2737",
   "metadata": {},
   "outputs": [],
   "source": []
  },
  {
   "cell_type": "code",
   "execution_count": null,
   "id": "357b3116-d562-4bdf-a02b-5cc2e059d265",
   "metadata": {},
   "outputs": [],
   "source": []
  },
  {
   "cell_type": "code",
   "execution_count": null,
   "id": "b55685c6-cd13-4f9c-9def-3fb567017abd",
   "metadata": {},
   "outputs": [],
   "source": [
    "Q8."
   ]
  },
  {
   "cell_type": "code",
   "execution_count": 152,
   "id": "766f2d33-807c-436b-aabe-0cf79fff3f3b",
   "metadata": {},
   "outputs": [
    {
     "name": "stdin",
     "output_type": "stream",
     "text": [
      "Enter a number:  254\n"
     ]
    },
    {
     "name": "stdout",
     "output_type": "stream",
     "text": [
      "The number is not a palindrome.\n"
     ]
    }
   ],
   "source": [
    "num = int(input(\"Enter a number: \"))\n",
    "original_num = num  \n",
    "\n",
    "reverse_num = 0 \n",
    "while num > 0:\n",
    "    remainder = num % 10\n",
    "    reverse_num = reverse_num * 10 + remainder\n",
    "    num = num // 10\n",
    "if original_num == reverse_num:\n",
    "    print(\"The number is a palindrome.\")\n",
    "else:\n",
    "    print(\"The number is not a palindrome.\")"
   ]
  },
  {
   "cell_type": "code",
   "execution_count": null,
   "id": "ad7af76d-f0b1-4d29-b96e-d7f3305c6166",
   "metadata": {},
   "outputs": [],
   "source": []
  },
  {
   "cell_type": "code",
   "execution_count": null,
   "id": "b6b4968f-5319-4635-b097-749263810945",
   "metadata": {},
   "outputs": [],
   "source": []
  },
  {
   "cell_type": "code",
   "execution_count": null,
   "id": "9d480a42-3a4e-4bc4-9bb7-fcc179ed824f",
   "metadata": {},
   "outputs": [],
   "source": [
    "Q9."
   ]
  },
  {
   "cell_type": "code",
   "execution_count": 178,
   "id": "b006e5f6-c0a2-4c70-9eb0-2e08241b2e81",
   "metadata": {},
   "outputs": [
    {
     "name": "stdout",
     "output_type": "stream",
     "text": [
      "[1, 3, 5, 7, 9, 11, 13, 15, 17, 19, 21, 23, 25, 27, 29, 31, 33, 35, 37, 39, 41, 43, 45, 47, 49, 51, 53, 55, 57, 59, 61, 63, 65, 67, 69, 71, 73, 75, 77, 79, 81, 83, 85, 87, 89, 91, 93, 95, 97, 99]\n"
     ]
    }
   ],
   "source": [
    "numbers = [num for num in range(1, 101)]\n",
    "odd_numbers = [num for num in numbers if num % 2 != 0]\n",
    "\n",
    "print(odd_numbers)\n",
    "\n",
    "        \n"
   ]
  },
  {
   "cell_type": "code",
   "execution_count": null,
   "id": "8751ab96-b292-40b2-ae38-29590b062aa0",
   "metadata": {},
   "outputs": [],
   "source": []
  },
  {
   "cell_type": "code",
   "execution_count": null,
   "id": "857f15d5-eb76-4b61-84bc-1393ffbd3998",
   "metadata": {},
   "outputs": [],
   "source": []
  }
 ],
 "metadata": {
  "kernelspec": {
   "display_name": "Python 3 (ipykernel)",
   "language": "python",
   "name": "python3"
  },
  "language_info": {
   "codemirror_mode": {
    "name": "ipython",
    "version": 3
   },
   "file_extension": ".py",
   "mimetype": "text/x-python",
   "name": "python",
   "nbconvert_exporter": "python",
   "pygments_lexer": "ipython3",
   "version": "3.10.8"
  }
 },
 "nbformat": 4,
 "nbformat_minor": 5
}
